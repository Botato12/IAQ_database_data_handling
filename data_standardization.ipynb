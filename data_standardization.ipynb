{
 "cells": [
  {
   "cell_type": "markdown",
   "source": [
    "# This file provides sample codes for processing your \"Primary\" data (publication-ready, in your onw preferred format) into \"Standarized\" data (standarized data formats prefered by the database)\n",
    "# Sample data files are stored in the \"Data sample\" folder"
   ],
   "metadata": {
    "collapsed": false
   },
   "id": "264898a6b9de1171"
  },
  {
   "cell_type": "code",
   "execution_count": 1,
   "outputs": [],
   "source": [
    "import pandas as pd\n",
    "import numpy as np"
   ],
   "metadata": {
    "collapsed": false,
    "ExecuteTime": {
     "end_time": "2024-10-09T15:59:00.829802Z",
     "start_time": "2024-10-09T15:59:00.826876Z"
    }
   },
   "id": "d0ba47d6"
  },
  {
   "cell_type": "markdown",
   "source": [
    "# Type 1 - time series data "
   ],
   "metadata": {
    "collapsed": false
   },
   "id": "5222190a064861c1"
  },
  {
   "cell_type": "markdown",
   "source": [
    "## Type 1.1 single time series data file"
   ],
   "metadata": {
    "collapsed": false
   },
   "id": "8ddadb73ab2b3903"
  },
  {
   "cell_type": "code",
   "execution_count": 2,
   "id": "e46c4474",
   "metadata": {
    "ExecuteTime": {
     "end_time": "2024-10-09T15:59:01.108030Z",
     "start_time": "2024-10-09T15:59:00.918702Z"
    }
   },
   "outputs": [
    {
     "data": {
      "text/plain": "                       DATE  11010204_AQM_CO2  11010204_AQM_Temperature  \\\n1       2022-09-08 20:55:00               404                      26.2   \n2       2022-09-08 20:57:00               409                      26.2   \n3       2022-09-08 20:59:00               411                      26.2   \n4       2022-09-08 21:01:00               405                      26.2   \n5       2022-09-08 21:03:00               406                      26.2   \n...                     ...               ...                       ...   \n209875  2023-06-27 11:52:00               793                      26.5   \n209876  2023-06-27 11:54:00               781                      26.5   \n209877  2023-06-27 11:56:00               716                      26.5   \n209878  2023-06-27 11:58:00               695                      26.5   \n209879  2023-06-27 12:00:00               504                      26.4   \n\n        11010204_AQM_Humidity  11010204_AQM_Humidity_STD_21C  \n1                        40.3                      55.116841  \n2                        40.3                      55.116841  \n3                        40.3                      55.116841  \n4                        40.3                      55.116841  \n5                        40.3                      55.116841  \n...                       ...                            ...  \n209875                   42.9                      59.719747  \n209876                   42.9                      59.719747  \n209877                   42.5                      59.162920  \n209878                   42.1                      58.606092  \n209879                   40.2                      55.632451  \n\n[209879 rows x 5 columns]",
      "text/html": "<div>\n<style scoped>\n    .dataframe tbody tr th:only-of-type {\n        vertical-align: middle;\n    }\n\n    .dataframe tbody tr th {\n        vertical-align: top;\n    }\n\n    .dataframe thead th {\n        text-align: right;\n    }\n</style>\n<table border=\"1\" class=\"dataframe\">\n  <thead>\n    <tr style=\"text-align: right;\">\n      <th></th>\n      <th>DATE</th>\n      <th>11010204_AQM_CO2</th>\n      <th>11010204_AQM_Temperature</th>\n      <th>11010204_AQM_Humidity</th>\n      <th>11010204_AQM_Humidity_STD_21C</th>\n    </tr>\n  </thead>\n  <tbody>\n    <tr>\n      <th>1</th>\n      <td>2022-09-08 20:55:00</td>\n      <td>404</td>\n      <td>26.2</td>\n      <td>40.3</td>\n      <td>55.116841</td>\n    </tr>\n    <tr>\n      <th>2</th>\n      <td>2022-09-08 20:57:00</td>\n      <td>409</td>\n      <td>26.2</td>\n      <td>40.3</td>\n      <td>55.116841</td>\n    </tr>\n    <tr>\n      <th>3</th>\n      <td>2022-09-08 20:59:00</td>\n      <td>411</td>\n      <td>26.2</td>\n      <td>40.3</td>\n      <td>55.116841</td>\n    </tr>\n    <tr>\n      <th>4</th>\n      <td>2022-09-08 21:01:00</td>\n      <td>405</td>\n      <td>26.2</td>\n      <td>40.3</td>\n      <td>55.116841</td>\n    </tr>\n    <tr>\n      <th>5</th>\n      <td>2022-09-08 21:03:00</td>\n      <td>406</td>\n      <td>26.2</td>\n      <td>40.3</td>\n      <td>55.116841</td>\n    </tr>\n    <tr>\n      <th>...</th>\n      <td>...</td>\n      <td>...</td>\n      <td>...</td>\n      <td>...</td>\n      <td>...</td>\n    </tr>\n    <tr>\n      <th>209875</th>\n      <td>2023-06-27 11:52:00</td>\n      <td>793</td>\n      <td>26.5</td>\n      <td>42.9</td>\n      <td>59.719747</td>\n    </tr>\n    <tr>\n      <th>209876</th>\n      <td>2023-06-27 11:54:00</td>\n      <td>781</td>\n      <td>26.5</td>\n      <td>42.9</td>\n      <td>59.719747</td>\n    </tr>\n    <tr>\n      <th>209877</th>\n      <td>2023-06-27 11:56:00</td>\n      <td>716</td>\n      <td>26.5</td>\n      <td>42.5</td>\n      <td>59.162920</td>\n    </tr>\n    <tr>\n      <th>209878</th>\n      <td>2023-06-27 11:58:00</td>\n      <td>695</td>\n      <td>26.5</td>\n      <td>42.1</td>\n      <td>58.606092</td>\n    </tr>\n    <tr>\n      <th>209879</th>\n      <td>2023-06-27 12:00:00</td>\n      <td>504</td>\n      <td>26.4</td>\n      <td>40.2</td>\n      <td>55.632451</td>\n    </tr>\n  </tbody>\n</table>\n<p>209879 rows × 5 columns</p>\n</div>"
     },
     "execution_count": 2,
     "metadata": {},
     "output_type": "execute_result"
    }
   ],
   "source": [
    "#here is an exmaple of a single file from a CO2 data logger \n",
    "filename = 'data_AQM_11010204.csv'\n",
    "aqm = pd.read_csv('./Data sample/'+filename,index_col=0)\n",
    "aqm\n"
   ]
  },
  {
   "cell_type": "code",
   "execution_count": 3,
   "outputs": [
    {
     "data": {
      "text/plain": "                  Timestamp  CO2, ppm  Temperature, °C  Relative humidity, %  \\\n1       2022-09-08 20:55:00       404             26.2                  40.3   \n2       2022-09-08 20:57:00       409             26.2                  40.3   \n3       2022-09-08 20:59:00       411             26.2                  40.3   \n4       2022-09-08 21:01:00       405             26.2                  40.3   \n5       2022-09-08 21:03:00       406             26.2                  40.3   \n...                     ...       ...              ...                   ...   \n209875  2023-06-27 11:52:00       793             26.5                  42.9   \n209876  2023-06-27 11:54:00       781             26.5                  42.9   \n209877  2023-06-27 11:56:00       716             26.5                  42.5   \n209878  2023-06-27 11:58:00       695             26.5                  42.1   \n209879  2023-06-27 12:00:00       504             26.4                  40.2   \n\n        Building identifier Space identifier Instrument identifier  \n1                         1              NBA                AQM G4  \n2                         1              NBA                AQM G4  \n3                         1              NBA                AQM G4  \n4                         1              NBA                AQM G4  \n5                         1              NBA                AQM G4  \n...                     ...              ...                   ...  \n209875                    1              NBA                AQM G4  \n209876                    1              NBA                AQM G4  \n209877                    1              NBA                AQM G4  \n209878                    1              NBA                AQM G4  \n209879                    1              NBA                AQM G4  \n\n[209879 rows x 7 columns]",
      "text/html": "<div>\n<style scoped>\n    .dataframe tbody tr th:only-of-type {\n        vertical-align: middle;\n    }\n\n    .dataframe tbody tr th {\n        vertical-align: top;\n    }\n\n    .dataframe thead th {\n        text-align: right;\n    }\n</style>\n<table border=\"1\" class=\"dataframe\">\n  <thead>\n    <tr style=\"text-align: right;\">\n      <th></th>\n      <th>Timestamp</th>\n      <th>CO2, ppm</th>\n      <th>Temperature, °C</th>\n      <th>Relative humidity, %</th>\n      <th>Building identifier</th>\n      <th>Space identifier</th>\n      <th>Instrument identifier</th>\n    </tr>\n  </thead>\n  <tbody>\n    <tr>\n      <th>1</th>\n      <td>2022-09-08 20:55:00</td>\n      <td>404</td>\n      <td>26.2</td>\n      <td>40.3</td>\n      <td>1</td>\n      <td>NBA</td>\n      <td>AQM G4</td>\n    </tr>\n    <tr>\n      <th>2</th>\n      <td>2022-09-08 20:57:00</td>\n      <td>409</td>\n      <td>26.2</td>\n      <td>40.3</td>\n      <td>1</td>\n      <td>NBA</td>\n      <td>AQM G4</td>\n    </tr>\n    <tr>\n      <th>3</th>\n      <td>2022-09-08 20:59:00</td>\n      <td>411</td>\n      <td>26.2</td>\n      <td>40.3</td>\n      <td>1</td>\n      <td>NBA</td>\n      <td>AQM G4</td>\n    </tr>\n    <tr>\n      <th>4</th>\n      <td>2022-09-08 21:01:00</td>\n      <td>405</td>\n      <td>26.2</td>\n      <td>40.3</td>\n      <td>1</td>\n      <td>NBA</td>\n      <td>AQM G4</td>\n    </tr>\n    <tr>\n      <th>5</th>\n      <td>2022-09-08 21:03:00</td>\n      <td>406</td>\n      <td>26.2</td>\n      <td>40.3</td>\n      <td>1</td>\n      <td>NBA</td>\n      <td>AQM G4</td>\n    </tr>\n    <tr>\n      <th>...</th>\n      <td>...</td>\n      <td>...</td>\n      <td>...</td>\n      <td>...</td>\n      <td>...</td>\n      <td>...</td>\n      <td>...</td>\n    </tr>\n    <tr>\n      <th>209875</th>\n      <td>2023-06-27 11:52:00</td>\n      <td>793</td>\n      <td>26.5</td>\n      <td>42.9</td>\n      <td>1</td>\n      <td>NBA</td>\n      <td>AQM G4</td>\n    </tr>\n    <tr>\n      <th>209876</th>\n      <td>2023-06-27 11:54:00</td>\n      <td>781</td>\n      <td>26.5</td>\n      <td>42.9</td>\n      <td>1</td>\n      <td>NBA</td>\n      <td>AQM G4</td>\n    </tr>\n    <tr>\n      <th>209877</th>\n      <td>2023-06-27 11:56:00</td>\n      <td>716</td>\n      <td>26.5</td>\n      <td>42.5</td>\n      <td>1</td>\n      <td>NBA</td>\n      <td>AQM G4</td>\n    </tr>\n    <tr>\n      <th>209878</th>\n      <td>2023-06-27 11:58:00</td>\n      <td>695</td>\n      <td>26.5</td>\n      <td>42.1</td>\n      <td>1</td>\n      <td>NBA</td>\n      <td>AQM G4</td>\n    </tr>\n    <tr>\n      <th>209879</th>\n      <td>2023-06-27 12:00:00</td>\n      <td>504</td>\n      <td>26.4</td>\n      <td>40.2</td>\n      <td>1</td>\n      <td>NBA</td>\n      <td>AQM G4</td>\n    </tr>\n  </tbody>\n</table>\n<p>209879 rows × 7 columns</p>\n</div>"
     },
     "execution_count": 3,
     "metadata": {},
     "output_type": "execute_result"
    }
   ],
   "source": [
    "#drop irrelevant columns \n",
    "aqm.drop(columns=['11010204_AQM_Humidity_STD_21C'],inplace=True)\n",
    "\n",
    "#rename column names, use \"Physical parameter name + , + unit\" format for IAQ data; use \"Timestamp\" for the timestamps\n",
    "\n",
    "#see examples below\n",
    "aqm.rename(columns={'11010204_AQM_CO2':'CO2, ppm','11010204_AQM_Temperature':'Temperature, °C','11010204_AQM_Humidity':'Relative humidity, %'},inplace=True)\n",
    "aqm.rename(columns={'DATE':'Timestamp'},inplace=True)\n",
    "\n",
    "#add building, space, and instrument identifiers\n",
    "aqm['Building identifier'] = 1\n",
    "aqm['Space identifier'] = 'NBA'\n",
    "aqm['Instrument identifier'] = 'AQM G4'\n",
    "\n",
    "aqm"
   ],
   "metadata": {
    "collapsed": false,
    "ExecuteTime": {
     "end_time": "2024-10-09T15:59:01.201306Z",
     "start_time": "2024-10-09T15:59:01.101163Z"
    }
   },
   "id": "92bc02e8c5d1ddb7"
  },
  {
   "cell_type": "code",
   "execution_count": 4,
   "outputs": [],
   "source": [
    "#save the standardized data file, and you are ready to upload it to the database!\n",
    "aqm.to_csv('Data sample/Data sample_Standardized/AQM_11010204_standardized.csv')"
   ],
   "metadata": {
    "collapsed": false,
    "ExecuteTime": {
     "end_time": "2024-10-09T15:59:01.594796Z",
     "start_time": "2024-10-09T15:59:01.114868Z"
    }
   },
   "id": "da612ace6a37d7c5"
  },
  {
   "cell_type": "markdown",
   "source": [
    "## Type 1.2 concatenated time series data file"
   ],
   "metadata": {
    "collapsed": false
   },
   "id": "652a8b48f647ef57"
  },
  {
   "cell_type": "code",
   "execution_count": 5,
   "outputs": [
    {
     "data": {
      "text/plain": "                    Date/Time  AQM_CO2  AQM_Temperature  AQM_Humidity  \\\n0         2022-09-08 20:55:00      404             26.2          40.3   \n1         2022-09-08 20:57:00      409             26.2          40.3   \n2         2022-09-08 20:59:00      411             26.2          40.3   \n3         2022-09-08 21:01:00      405             26.2          40.3   \n4         2022-09-08 21:03:00      406             26.2          40.3   \n...                       ...      ...              ...           ...   \n10275926  2023-06-21 11:52:00      506             28.3          48.2   \n10275927  2023-06-21 11:54:00      501             28.2          48.1   \n10275928  2023-06-21 11:56:00      485             28.2          48.0   \n10275929  2023-06-21 11:58:00      482             28.2          48.0   \n10275930  2023-06-21 12:00:00      494             28.2          48.0   \n\n          AQM_Humidity_STD_21C  Building Location Campaign  \n0                    55.116841         1      NBA    A21W1  \n1                    55.116841         1      NBA    A21W1  \n2                    55.116841         1      NBA    A21W1  \n3                    55.116841         1      NBA    A21W1  \n4                    55.116841         1      NBA    A21W1  \n...                        ...       ...      ...      ...  \n10275926             74.547260        24      NHA    A21W1  \n10275927             73.961510        24      NHA    A21W1  \n10275928             73.807744        24      NHA    A21W1  \n10275929             73.807744        24      NHA    A21W1  \n10275930             73.807744        24      NHA    A21W1  \n\n[10275931 rows x 8 columns]",
      "text/html": "<div>\n<style scoped>\n    .dataframe tbody tr th:only-of-type {\n        vertical-align: middle;\n    }\n\n    .dataframe tbody tr th {\n        vertical-align: top;\n    }\n\n    .dataframe thead th {\n        text-align: right;\n    }\n</style>\n<table border=\"1\" class=\"dataframe\">\n  <thead>\n    <tr style=\"text-align: right;\">\n      <th></th>\n      <th>Date/Time</th>\n      <th>AQM_CO2</th>\n      <th>AQM_Temperature</th>\n      <th>AQM_Humidity</th>\n      <th>AQM_Humidity_STD_21C</th>\n      <th>Building</th>\n      <th>Location</th>\n      <th>Campaign</th>\n    </tr>\n  </thead>\n  <tbody>\n    <tr>\n      <th>0</th>\n      <td>2022-09-08 20:55:00</td>\n      <td>404</td>\n      <td>26.2</td>\n      <td>40.3</td>\n      <td>55.116841</td>\n      <td>1</td>\n      <td>NBA</td>\n      <td>A21W1</td>\n    </tr>\n    <tr>\n      <th>1</th>\n      <td>2022-09-08 20:57:00</td>\n      <td>409</td>\n      <td>26.2</td>\n      <td>40.3</td>\n      <td>55.116841</td>\n      <td>1</td>\n      <td>NBA</td>\n      <td>A21W1</td>\n    </tr>\n    <tr>\n      <th>2</th>\n      <td>2022-09-08 20:59:00</td>\n      <td>411</td>\n      <td>26.2</td>\n      <td>40.3</td>\n      <td>55.116841</td>\n      <td>1</td>\n      <td>NBA</td>\n      <td>A21W1</td>\n    </tr>\n    <tr>\n      <th>3</th>\n      <td>2022-09-08 21:01:00</td>\n      <td>405</td>\n      <td>26.2</td>\n      <td>40.3</td>\n      <td>55.116841</td>\n      <td>1</td>\n      <td>NBA</td>\n      <td>A21W1</td>\n    </tr>\n    <tr>\n      <th>4</th>\n      <td>2022-09-08 21:03:00</td>\n      <td>406</td>\n      <td>26.2</td>\n      <td>40.3</td>\n      <td>55.116841</td>\n      <td>1</td>\n      <td>NBA</td>\n      <td>A21W1</td>\n    </tr>\n    <tr>\n      <th>...</th>\n      <td>...</td>\n      <td>...</td>\n      <td>...</td>\n      <td>...</td>\n      <td>...</td>\n      <td>...</td>\n      <td>...</td>\n      <td>...</td>\n    </tr>\n    <tr>\n      <th>10275926</th>\n      <td>2023-06-21 11:52:00</td>\n      <td>506</td>\n      <td>28.3</td>\n      <td>48.2</td>\n      <td>74.547260</td>\n      <td>24</td>\n      <td>NHA</td>\n      <td>A21W1</td>\n    </tr>\n    <tr>\n      <th>10275927</th>\n      <td>2023-06-21 11:54:00</td>\n      <td>501</td>\n      <td>28.2</td>\n      <td>48.1</td>\n      <td>73.961510</td>\n      <td>24</td>\n      <td>NHA</td>\n      <td>A21W1</td>\n    </tr>\n    <tr>\n      <th>10275928</th>\n      <td>2023-06-21 11:56:00</td>\n      <td>485</td>\n      <td>28.2</td>\n      <td>48.0</td>\n      <td>73.807744</td>\n      <td>24</td>\n      <td>NHA</td>\n      <td>A21W1</td>\n    </tr>\n    <tr>\n      <th>10275929</th>\n      <td>2023-06-21 11:58:00</td>\n      <td>482</td>\n      <td>28.2</td>\n      <td>48.0</td>\n      <td>73.807744</td>\n      <td>24</td>\n      <td>NHA</td>\n      <td>A21W1</td>\n    </tr>\n    <tr>\n      <th>10275930</th>\n      <td>2023-06-21 12:00:00</td>\n      <td>494</td>\n      <td>28.2</td>\n      <td>48.0</td>\n      <td>73.807744</td>\n      <td>24</td>\n      <td>NHA</td>\n      <td>A21W1</td>\n    </tr>\n  </tbody>\n</table>\n<p>10275931 rows × 8 columns</p>\n</div>"
     },
     "execution_count": 5,
     "metadata": {},
     "output_type": "execute_result"
    }
   ],
   "source": [
    "#here is an exmaple of a concatenated file from multiple CO2 data logger of the same kind\n",
    "filename = 'scholair_aqm.csv'\n",
    "aqm_conc = pd.read_csv('./Data sample/'+filename,index_col=0)\n",
    "aqm_conc"
   ],
   "metadata": {
    "collapsed": false,
    "ExecuteTime": {
     "end_time": "2024-10-09T15:59:10.033052Z",
     "start_time": "2024-10-09T15:59:01.588117Z"
    }
   },
   "id": "9ca971e053f12f5a"
  },
  {
   "cell_type": "code",
   "execution_count": 6,
   "outputs": [
    {
     "data": {
      "text/plain": "                    Timestamp  CO2, ppm  Temperature, °C  \\\n0         2022-09-08 20:55:00       404             26.2   \n1         2022-09-08 20:57:00       409             26.2   \n2         2022-09-08 20:59:00       411             26.2   \n3         2022-09-08 21:01:00       405             26.2   \n4         2022-09-08 21:03:00       406             26.2   \n...                       ...       ...              ...   \n10275926  2023-06-21 11:52:00       506             28.3   \n10275927  2023-06-21 11:54:00       501             28.2   \n10275928  2023-06-21 11:56:00       485             28.2   \n10275929  2023-06-21 11:58:00       482             28.2   \n10275930  2023-06-21 12:00:00       494             28.2   \n\n          Relative humidity, %  Building identifier Space identifier  \\\n0                         40.3                    1              NBA   \n1                         40.3                    1              NBA   \n2                         40.3                    1              NBA   \n3                         40.3                    1              NBA   \n4                         40.3                    1              NBA   \n...                        ...                  ...              ...   \n10275926                  48.2                   24              NHA   \n10275927                  48.1                   24              NHA   \n10275928                  48.0                   24              NHA   \n10275929                  48.0                   24              NHA   \n10275930                  48.0                   24              NHA   \n\n         Instrument identifier  \n0                       AQM G4  \n1                       AQM G4  \n2                       AQM G4  \n3                       AQM G4  \n4                       AQM G4  \n...                        ...  \n10275926                AQM G4  \n10275927                AQM G4  \n10275928                AQM G4  \n10275929                AQM G4  \n10275930                AQM G4  \n\n[10275931 rows x 7 columns]",
      "text/html": "<div>\n<style scoped>\n    .dataframe tbody tr th:only-of-type {\n        vertical-align: middle;\n    }\n\n    .dataframe tbody tr th {\n        vertical-align: top;\n    }\n\n    .dataframe thead th {\n        text-align: right;\n    }\n</style>\n<table border=\"1\" class=\"dataframe\">\n  <thead>\n    <tr style=\"text-align: right;\">\n      <th></th>\n      <th>Timestamp</th>\n      <th>CO2, ppm</th>\n      <th>Temperature, °C</th>\n      <th>Relative humidity, %</th>\n      <th>Building identifier</th>\n      <th>Space identifier</th>\n      <th>Instrument identifier</th>\n    </tr>\n  </thead>\n  <tbody>\n    <tr>\n      <th>0</th>\n      <td>2022-09-08 20:55:00</td>\n      <td>404</td>\n      <td>26.2</td>\n      <td>40.3</td>\n      <td>1</td>\n      <td>NBA</td>\n      <td>AQM G4</td>\n    </tr>\n    <tr>\n      <th>1</th>\n      <td>2022-09-08 20:57:00</td>\n      <td>409</td>\n      <td>26.2</td>\n      <td>40.3</td>\n      <td>1</td>\n      <td>NBA</td>\n      <td>AQM G4</td>\n    </tr>\n    <tr>\n      <th>2</th>\n      <td>2022-09-08 20:59:00</td>\n      <td>411</td>\n      <td>26.2</td>\n      <td>40.3</td>\n      <td>1</td>\n      <td>NBA</td>\n      <td>AQM G4</td>\n    </tr>\n    <tr>\n      <th>3</th>\n      <td>2022-09-08 21:01:00</td>\n      <td>405</td>\n      <td>26.2</td>\n      <td>40.3</td>\n      <td>1</td>\n      <td>NBA</td>\n      <td>AQM G4</td>\n    </tr>\n    <tr>\n      <th>4</th>\n      <td>2022-09-08 21:03:00</td>\n      <td>406</td>\n      <td>26.2</td>\n      <td>40.3</td>\n      <td>1</td>\n      <td>NBA</td>\n      <td>AQM G4</td>\n    </tr>\n    <tr>\n      <th>...</th>\n      <td>...</td>\n      <td>...</td>\n      <td>...</td>\n      <td>...</td>\n      <td>...</td>\n      <td>...</td>\n      <td>...</td>\n    </tr>\n    <tr>\n      <th>10275926</th>\n      <td>2023-06-21 11:52:00</td>\n      <td>506</td>\n      <td>28.3</td>\n      <td>48.2</td>\n      <td>24</td>\n      <td>NHA</td>\n      <td>AQM G4</td>\n    </tr>\n    <tr>\n      <th>10275927</th>\n      <td>2023-06-21 11:54:00</td>\n      <td>501</td>\n      <td>28.2</td>\n      <td>48.1</td>\n      <td>24</td>\n      <td>NHA</td>\n      <td>AQM G4</td>\n    </tr>\n    <tr>\n      <th>10275928</th>\n      <td>2023-06-21 11:56:00</td>\n      <td>485</td>\n      <td>28.2</td>\n      <td>48.0</td>\n      <td>24</td>\n      <td>NHA</td>\n      <td>AQM G4</td>\n    </tr>\n    <tr>\n      <th>10275929</th>\n      <td>2023-06-21 11:58:00</td>\n      <td>482</td>\n      <td>28.2</td>\n      <td>48.0</td>\n      <td>24</td>\n      <td>NHA</td>\n      <td>AQM G4</td>\n    </tr>\n    <tr>\n      <th>10275930</th>\n      <td>2023-06-21 12:00:00</td>\n      <td>494</td>\n      <td>28.2</td>\n      <td>48.0</td>\n      <td>24</td>\n      <td>NHA</td>\n      <td>AQM G4</td>\n    </tr>\n  </tbody>\n</table>\n<p>10275931 rows × 7 columns</p>\n</div>"
     },
     "execution_count": 6,
     "metadata": {},
     "output_type": "execute_result"
    }
   ],
   "source": [
    "#drop irrelevant columns \n",
    "aqm_conc.drop(columns=['Campaign','AQM_Humidity_STD_21C'],inplace=True)\n",
    "\n",
    "#rename column names, use \"Physical parameter name + , + unit\" format\n",
    "#see examples below\n",
    "aqm_conc.rename(columns={'AQM_CO2':'CO2, ppm','AQM_Temperature':'Temperature, °C','AQM_Humidity':'Relative humidity, %'},inplace=True)\n",
    "aqm_conc.rename(columns={'Date/Time':'Timestamp'},inplace=True)\n",
    "\n",
    "#the concatenated file already contains building and space identifiers\n",
    "#standardize column names for identifiers\n",
    "building_col = 'Building' #column name of building identifier in your primary data, values must match metadata\n",
    "space_col = 'Location' #column name of space identifier in your primary data, values must match metadata\n",
    "aqm_conc.rename(columns={building_col:'Building identifier',space_col:'Space identifier'},inplace=True)\n",
    "\n",
    "#check all necessary information has been provided\n",
    "#most important ones include: Building identifier, Space identifier,  Instrument identifier, and Timestamp\n",
    "#in this example, Instrument identifier is missing\n",
    "aqm_conc['Instrument identifier'] = 'AQM G4' #must match the Instrument identifier in the metadata\n",
    "\n",
    "aqm_conc"
   ],
   "metadata": {
    "collapsed": false,
    "ExecuteTime": {
     "end_time": "2024-10-09T15:59:10.963812Z",
     "start_time": "2024-10-09T15:59:10.211846Z"
    }
   },
   "id": "d0ef00d05d642f56"
  },
  {
   "cell_type": "code",
   "execution_count": 7,
   "outputs": [],
   "source": [
    "#export processed dataframe and upload it to the database after filling in metadata using the web tool \n",
    "aqm_conc.to_csv('Data sample/Data sample_Standardized/AQM_conc_standardized.csv')"
   ],
   "metadata": {
    "collapsed": false,
    "ExecuteTime": {
     "end_time": "2024-10-09T15:59:32.268988Z",
     "start_time": "2024-10-09T15:59:10.962036Z"
    }
   },
   "id": "351159817e11a7fd"
  },
  {
   "cell_type": "markdown",
   "source": [
    "# Type 2 - Integrated data"
   ],
   "metadata": {
    "collapsed": false
   },
   "id": "711dccb34803a2ff"
  },
  {
   "cell_type": "markdown",
   "source": [
    "## Type 2.1 -  Integrated data file that does not require transposition   "
   ],
   "metadata": {
    "collapsed": false
   },
   "id": "3997cf2b95c35931"
  },
  {
   "cell_type": "code",
   "execution_count": 8,
   "outputs": [
    {
     "data": {
      "text/plain": "                 Date  Benzene    Toluene    Ethylbenzene  m-Xylene p-Xylene  \\\n0    15.06-22.06.2022 -1000000 -1000000.0        1.000000           2.000000   \n1    15.06-22.06.2022 -1000000 -1000000.0 -1000000.000000           1.000000   \n2    15.06-22.06.2022 -1000000 -1000000.0 -1000000.000000           1.000000   \n3    15.06-22.06.2022 -1000000        7.0        1.000000           6.000000   \n4    15.06-22.06.2022 -1000000 -1000000.0        1.000000           4.000000   \n..                ...      ...        ...             ...                ...   \n138  22.03-29.03.2023 -1000000 -1000000.0 -1000000.000000           1.000000   \n139  22.03-29.03.2023 -1000000 -1000000.0 -1000000.000000    -1000000.000000   \n140  22.03-29.03.2023 -1000000 -1000000.0        1.962633           5.093146   \n141  22.03-29.03.2023 -1000000 -1000000.0        3.124854           6.623864   \n142  22.03-29.03.2023 -1000000 -1000000.0 -1000000.000000           1.000000   \n\n           o-Xylene         Styrene  1,2,4-Trimethylbenzene  3-Methylpentane  \\\n0          1.000000 -1000000.000000                2.000000       -1000000.0   \n1          1.000000 -1000000.000000         -1000000.000000       -1000000.0   \n2          1.000000 -1000000.000000         -1000000.000000       -1000000.0   \n3          2.000000 -1000000.000000         -1000000.000000              2.0   \n4          2.000000 -1000000.000000                2.000000              2.0   \n..              ...             ...                     ...              ...   \n138 -1000000.000000 -1000000.000000                2.176896       -1000000.0   \n139 -1000000.000000 -1000000.000000         -1000000.000000       -1000000.0   \n140        2.354599        3.044249                2.689040       -1000000.0   \n141        3.029218 -1000000.000000                4.941842       -1000000.0   \n142 -1000000.000000 -1000000.000000         -1000000.000000       -1000000.0   \n\n     Cyclohexane  ...  1-Methoxy-2-propanol  Decamethylcyclopentasiloxane  \\\n0     -1000000.0  ...             10.000000                -1000000.00000   \n1     -1000000.0  ...              5.000000                -1000000.00000   \n2     -1000000.0  ...       -1000000.000000                -1000000.00000   \n3            2.0  ...             33.000000                       2.00000   \n4     -1000000.0  ...             18.000000                       2.00000   \n..           ...  ...                   ...                           ...   \n138   -1000000.0  ...              7.089461                -1000000.00000   \n139   -1000000.0  ...       -1000000.000000                -1000000.00000   \n140   -1000000.0  ...              8.046380                       5.76807   \n141   -1000000.0  ...             11.862503                -1000000.00000   \n142   -1000000.0  ...       -1000000.000000                -1000000.00000   \n\n     Diethylphtalate  1S-Alpha-Pinene        Limonene  Composes_doses  \\\n0                3.0  -1000000.000000 -1000000.000000       37.000000   \n1                4.0  -1000000.000000 -1000000.000000       10.000000   \n2                3.0  -1000000.000000 -1000000.000000        5.000000   \n3                2.0         4.000000        3.000000      123.000000   \n4                2.0         8.000000        2.000000       53.000000   \n..               ...              ...             ...             ...   \n138       -1000000.0  -1000000.000000       10.371277       20.407226   \n139       -1000000.0  -1000000.000000 -1000000.000000       34.313499   \n140       -1000000.0         5.350555        3.042765       39.816712   \n141       -1000000.0         3.225134        1.784536       36.849205   \n142       -1000000.0  -1000000.000000 -1000000.000000        0.702804   \n\n          COVtot  Campagne_str  Point_mesure  Localite_id  \n0     760.000000           E22           NBA            8  \n1     503.000000           E22           NHA            8  \n2     380.000000           E22           EXT            8  \n3     879.000000           E22           NBA           18  \n4    1122.000000           E22           NHA           18  \n..           ...           ...           ...          ...  \n138   324.835483           H23           NHA            6  \n139   186.258882           H23           EXT            6  \n140   418.557282           H23           NBA           14  \n141   573.006778           H23           NHA           14  \n142   223.127626           H23           EXT           14  \n\n[143 rows x 26 columns]",
      "text/html": "<div>\n<style scoped>\n    .dataframe tbody tr th:only-of-type {\n        vertical-align: middle;\n    }\n\n    .dataframe tbody tr th {\n        vertical-align: top;\n    }\n\n    .dataframe thead th {\n        text-align: right;\n    }\n</style>\n<table border=\"1\" class=\"dataframe\">\n  <thead>\n    <tr style=\"text-align: right;\">\n      <th></th>\n      <th>Date</th>\n      <th>Benzene</th>\n      <th>Toluene</th>\n      <th>Ethylbenzene</th>\n      <th>m-Xylene p-Xylene</th>\n      <th>o-Xylene</th>\n      <th>Styrene</th>\n      <th>1,2,4-Trimethylbenzene</th>\n      <th>3-Methylpentane</th>\n      <th>Cyclohexane</th>\n      <th>...</th>\n      <th>1-Methoxy-2-propanol</th>\n      <th>Decamethylcyclopentasiloxane</th>\n      <th>Diethylphtalate</th>\n      <th>1S-Alpha-Pinene</th>\n      <th>Limonene</th>\n      <th>Composes_doses</th>\n      <th>COVtot</th>\n      <th>Campagne_str</th>\n      <th>Point_mesure</th>\n      <th>Localite_id</th>\n    </tr>\n  </thead>\n  <tbody>\n    <tr>\n      <th>0</th>\n      <td>15.06-22.06.2022</td>\n      <td>-1000000</td>\n      <td>-1000000.0</td>\n      <td>1.000000</td>\n      <td>2.000000</td>\n      <td>1.000000</td>\n      <td>-1000000.000000</td>\n      <td>2.000000</td>\n      <td>-1000000.0</td>\n      <td>-1000000.0</td>\n      <td>...</td>\n      <td>10.000000</td>\n      <td>-1000000.00000</td>\n      <td>3.0</td>\n      <td>-1000000.000000</td>\n      <td>-1000000.000000</td>\n      <td>37.000000</td>\n      <td>760.000000</td>\n      <td>E22</td>\n      <td>NBA</td>\n      <td>8</td>\n    </tr>\n    <tr>\n      <th>1</th>\n      <td>15.06-22.06.2022</td>\n      <td>-1000000</td>\n      <td>-1000000.0</td>\n      <td>-1000000.000000</td>\n      <td>1.000000</td>\n      <td>1.000000</td>\n      <td>-1000000.000000</td>\n      <td>-1000000.000000</td>\n      <td>-1000000.0</td>\n      <td>-1000000.0</td>\n      <td>...</td>\n      <td>5.000000</td>\n      <td>-1000000.00000</td>\n      <td>4.0</td>\n      <td>-1000000.000000</td>\n      <td>-1000000.000000</td>\n      <td>10.000000</td>\n      <td>503.000000</td>\n      <td>E22</td>\n      <td>NHA</td>\n      <td>8</td>\n    </tr>\n    <tr>\n      <th>2</th>\n      <td>15.06-22.06.2022</td>\n      <td>-1000000</td>\n      <td>-1000000.0</td>\n      <td>-1000000.000000</td>\n      <td>1.000000</td>\n      <td>1.000000</td>\n      <td>-1000000.000000</td>\n      <td>-1000000.000000</td>\n      <td>-1000000.0</td>\n      <td>-1000000.0</td>\n      <td>...</td>\n      <td>-1000000.000000</td>\n      <td>-1000000.00000</td>\n      <td>3.0</td>\n      <td>-1000000.000000</td>\n      <td>-1000000.000000</td>\n      <td>5.000000</td>\n      <td>380.000000</td>\n      <td>E22</td>\n      <td>EXT</td>\n      <td>8</td>\n    </tr>\n    <tr>\n      <th>3</th>\n      <td>15.06-22.06.2022</td>\n      <td>-1000000</td>\n      <td>7.0</td>\n      <td>1.000000</td>\n      <td>6.000000</td>\n      <td>2.000000</td>\n      <td>-1000000.000000</td>\n      <td>-1000000.000000</td>\n      <td>2.0</td>\n      <td>2.0</td>\n      <td>...</td>\n      <td>33.000000</td>\n      <td>2.00000</td>\n      <td>2.0</td>\n      <td>4.000000</td>\n      <td>3.000000</td>\n      <td>123.000000</td>\n      <td>879.000000</td>\n      <td>E22</td>\n      <td>NBA</td>\n      <td>18</td>\n    </tr>\n    <tr>\n      <th>4</th>\n      <td>15.06-22.06.2022</td>\n      <td>-1000000</td>\n      <td>-1000000.0</td>\n      <td>1.000000</td>\n      <td>4.000000</td>\n      <td>2.000000</td>\n      <td>-1000000.000000</td>\n      <td>2.000000</td>\n      <td>2.0</td>\n      <td>-1000000.0</td>\n      <td>...</td>\n      <td>18.000000</td>\n      <td>2.00000</td>\n      <td>2.0</td>\n      <td>8.000000</td>\n      <td>2.000000</td>\n      <td>53.000000</td>\n      <td>1122.000000</td>\n      <td>E22</td>\n      <td>NHA</td>\n      <td>18</td>\n    </tr>\n    <tr>\n      <th>...</th>\n      <td>...</td>\n      <td>...</td>\n      <td>...</td>\n      <td>...</td>\n      <td>...</td>\n      <td>...</td>\n      <td>...</td>\n      <td>...</td>\n      <td>...</td>\n      <td>...</td>\n      <td>...</td>\n      <td>...</td>\n      <td>...</td>\n      <td>...</td>\n      <td>...</td>\n      <td>...</td>\n      <td>...</td>\n      <td>...</td>\n      <td>...</td>\n      <td>...</td>\n      <td>...</td>\n    </tr>\n    <tr>\n      <th>138</th>\n      <td>22.03-29.03.2023</td>\n      <td>-1000000</td>\n      <td>-1000000.0</td>\n      <td>-1000000.000000</td>\n      <td>1.000000</td>\n      <td>-1000000.000000</td>\n      <td>-1000000.000000</td>\n      <td>2.176896</td>\n      <td>-1000000.0</td>\n      <td>-1000000.0</td>\n      <td>...</td>\n      <td>7.089461</td>\n      <td>-1000000.00000</td>\n      <td>-1000000.0</td>\n      <td>-1000000.000000</td>\n      <td>10.371277</td>\n      <td>20.407226</td>\n      <td>324.835483</td>\n      <td>H23</td>\n      <td>NHA</td>\n      <td>6</td>\n    </tr>\n    <tr>\n      <th>139</th>\n      <td>22.03-29.03.2023</td>\n      <td>-1000000</td>\n      <td>-1000000.0</td>\n      <td>-1000000.000000</td>\n      <td>-1000000.000000</td>\n      <td>-1000000.000000</td>\n      <td>-1000000.000000</td>\n      <td>-1000000.000000</td>\n      <td>-1000000.0</td>\n      <td>-1000000.0</td>\n      <td>...</td>\n      <td>-1000000.000000</td>\n      <td>-1000000.00000</td>\n      <td>-1000000.0</td>\n      <td>-1000000.000000</td>\n      <td>-1000000.000000</td>\n      <td>34.313499</td>\n      <td>186.258882</td>\n      <td>H23</td>\n      <td>EXT</td>\n      <td>6</td>\n    </tr>\n    <tr>\n      <th>140</th>\n      <td>22.03-29.03.2023</td>\n      <td>-1000000</td>\n      <td>-1000000.0</td>\n      <td>1.962633</td>\n      <td>5.093146</td>\n      <td>2.354599</td>\n      <td>3.044249</td>\n      <td>2.689040</td>\n      <td>-1000000.0</td>\n      <td>-1000000.0</td>\n      <td>...</td>\n      <td>8.046380</td>\n      <td>5.76807</td>\n      <td>-1000000.0</td>\n      <td>5.350555</td>\n      <td>3.042765</td>\n      <td>39.816712</td>\n      <td>418.557282</td>\n      <td>H23</td>\n      <td>NBA</td>\n      <td>14</td>\n    </tr>\n    <tr>\n      <th>141</th>\n      <td>22.03-29.03.2023</td>\n      <td>-1000000</td>\n      <td>-1000000.0</td>\n      <td>3.124854</td>\n      <td>6.623864</td>\n      <td>3.029218</td>\n      <td>-1000000.000000</td>\n      <td>4.941842</td>\n      <td>-1000000.0</td>\n      <td>-1000000.0</td>\n      <td>...</td>\n      <td>11.862503</td>\n      <td>-1000000.00000</td>\n      <td>-1000000.0</td>\n      <td>3.225134</td>\n      <td>1.784536</td>\n      <td>36.849205</td>\n      <td>573.006778</td>\n      <td>H23</td>\n      <td>NHA</td>\n      <td>14</td>\n    </tr>\n    <tr>\n      <th>142</th>\n      <td>22.03-29.03.2023</td>\n      <td>-1000000</td>\n      <td>-1000000.0</td>\n      <td>-1000000.000000</td>\n      <td>1.000000</td>\n      <td>-1000000.000000</td>\n      <td>-1000000.000000</td>\n      <td>-1000000.000000</td>\n      <td>-1000000.0</td>\n      <td>-1000000.0</td>\n      <td>...</td>\n      <td>-1000000.000000</td>\n      <td>-1000000.00000</td>\n      <td>-1000000.0</td>\n      <td>-1000000.000000</td>\n      <td>-1000000.000000</td>\n      <td>0.702804</td>\n      <td>223.127626</td>\n      <td>H23</td>\n      <td>EXT</td>\n      <td>14</td>\n    </tr>\n  </tbody>\n</table>\n<p>143 rows × 26 columns</p>\n</div>"
     },
     "execution_count": 8,
     "metadata": {},
     "output_type": "execute_result"
    }
   ],
   "source": [
    "#here is an exmaple of a concatenated file from multiple Tenax VOC samplers of the same kind \n",
    "filename = 'scholair_ten.csv'\n",
    "tenax = pd.read_csv('./Data sample/'+filename, index_col=0,converters={'Ref':str})\n",
    "tenax"
   ],
   "metadata": {
    "collapsed": false,
    "ExecuteTime": {
     "end_time": "2024-10-09T15:59:32.292834Z",
     "start_time": "2024-10-09T15:59:32.271278Z"
    }
   },
   "id": "16f5badb0c8e066f"
  },
  {
   "cell_type": "code",
   "execution_count": 9,
   "outputs": [
    {
     "data": {
      "text/plain": "     Benzene, µg/m3  Toluene, µg/m3  Ethylbenzene, µg/m3  \\\n0          -1000000      -1000000.0             1.000000   \n1          -1000000      -1000000.0      -1000000.000000   \n2          -1000000      -1000000.0      -1000000.000000   \n3          -1000000             7.0             1.000000   \n4          -1000000      -1000000.0             1.000000   \n..              ...             ...                  ...   \n138        -1000000      -1000000.0      -1000000.000000   \n139        -1000000      -1000000.0      -1000000.000000   \n140        -1000000      -1000000.0             1.962633   \n141        -1000000      -1000000.0             3.124854   \n142        -1000000      -1000000.0      -1000000.000000   \n\n     m-Xylene p-Xylene, µg/m3  o-Xylene, µg/m3  Styrene, µg/m3  \\\n0                    2.000000         1.000000 -1000000.000000   \n1                    1.000000         1.000000 -1000000.000000   \n2                    1.000000         1.000000 -1000000.000000   \n3                    6.000000         2.000000 -1000000.000000   \n4                    4.000000         2.000000 -1000000.000000   \n..                        ...              ...             ...   \n138                  1.000000  -1000000.000000 -1000000.000000   \n139           -1000000.000000  -1000000.000000 -1000000.000000   \n140                  5.093146         2.354599        3.044249   \n141                  6.623864         3.029218 -1000000.000000   \n142                  1.000000  -1000000.000000 -1000000.000000   \n\n     1,2,4-Trimethylbenzene, µg/m3  3-Methylpentane, µg/m3  \\\n0                         2.000000              -1000000.0   \n1                  -1000000.000000              -1000000.0   \n2                  -1000000.000000              -1000000.0   \n3                  -1000000.000000                     2.0   \n4                         2.000000                     2.0   \n..                             ...                     ...   \n138                       2.176896              -1000000.0   \n139                -1000000.000000              -1000000.0   \n140                       2.689040              -1000000.0   \n141                       4.941842              -1000000.0   \n142                -1000000.000000              -1000000.0   \n\n     Cyclohexane, µg/m3  Chloroforme, µg/m3  ...  \\\n0            -1000000.0            -1000000  ...   \n1            -1000000.0            -1000000  ...   \n2            -1000000.0            -1000000  ...   \n3                   2.0            -1000000  ...   \n4            -1000000.0            -1000000  ...   \n..                  ...                 ...  ...   \n138          -1000000.0            -1000000  ...   \n139          -1000000.0            -1000000  ...   \n140          -1000000.0            -1000000  ...   \n141          -1000000.0            -1000000  ...   \n142          -1000000.0            -1000000  ...   \n\n     Decamethylcyclopentasiloxane, µg/m3  Diethylphtalate, µg/m3  \\\n0                         -1000000.00000                     3.0   \n1                         -1000000.00000                     4.0   \n2                         -1000000.00000                     3.0   \n3                                2.00000                     2.0   \n4                                2.00000                     2.0   \n..                                   ...                     ...   \n138                       -1000000.00000              -1000000.0   \n139                       -1000000.00000              -1000000.0   \n140                              5.76807              -1000000.0   \n141                       -1000000.00000              -1000000.0   \n142                       -1000000.00000              -1000000.0   \n\n     1S-Alpha-Pinene, µg/m3  Limonene, µg/m3  TVOC, µg/m3  Space identifier  \\\n0           -1000000.000000  -1000000.000000   760.000000               NBA   \n1           -1000000.000000  -1000000.000000   503.000000               NHA   \n2           -1000000.000000  -1000000.000000   380.000000               EXT   \n3                  4.000000         3.000000   879.000000               NBA   \n4                  8.000000         2.000000  1122.000000               NHA   \n..                      ...              ...          ...               ...   \n138         -1000000.000000        10.371277   324.835483               NHA   \n139         -1000000.000000  -1000000.000000   186.258882               EXT   \n140                5.350555         3.042765   418.557282               NBA   \n141                3.225134         1.784536   573.006778               NHA   \n142         -1000000.000000  -1000000.000000   223.127626               EXT   \n\n     Building identifier   End time  Start time  Instrument identifier  \n0                      8 2022-06-22  2022-06-15                  Tenax  \n1                      8 2022-06-22  2022-06-15                  Tenax  \n2                      8 2022-06-22  2022-06-15                  Tenax  \n3                     18 2022-06-22  2022-06-15                  Tenax  \n4                     18 2022-06-22  2022-06-15                  Tenax  \n..                   ...        ...         ...                    ...  \n138                    6 2023-03-29  2023-03-22                  Tenax  \n139                    6 2023-03-29  2023-03-22                  Tenax  \n140                   14 2023-03-29  2023-03-22                  Tenax  \n141                   14 2023-03-29  2023-03-22                  Tenax  \n142                   14 2023-03-29  2023-03-22                  Tenax  \n\n[143 rows x 26 columns]",
      "text/html": "<div>\n<style scoped>\n    .dataframe tbody tr th:only-of-type {\n        vertical-align: middle;\n    }\n\n    .dataframe tbody tr th {\n        vertical-align: top;\n    }\n\n    .dataframe thead th {\n        text-align: right;\n    }\n</style>\n<table border=\"1\" class=\"dataframe\">\n  <thead>\n    <tr style=\"text-align: right;\">\n      <th></th>\n      <th>Benzene, µg/m3</th>\n      <th>Toluene, µg/m3</th>\n      <th>Ethylbenzene, µg/m3</th>\n      <th>m-Xylene p-Xylene, µg/m3</th>\n      <th>o-Xylene, µg/m3</th>\n      <th>Styrene, µg/m3</th>\n      <th>1,2,4-Trimethylbenzene, µg/m3</th>\n      <th>3-Methylpentane, µg/m3</th>\n      <th>Cyclohexane, µg/m3</th>\n      <th>Chloroforme, µg/m3</th>\n      <th>...</th>\n      <th>Decamethylcyclopentasiloxane, µg/m3</th>\n      <th>Diethylphtalate, µg/m3</th>\n      <th>1S-Alpha-Pinene, µg/m3</th>\n      <th>Limonene, µg/m3</th>\n      <th>TVOC, µg/m3</th>\n      <th>Space identifier</th>\n      <th>Building identifier</th>\n      <th>End time</th>\n      <th>Start time</th>\n      <th>Instrument identifier</th>\n    </tr>\n  </thead>\n  <tbody>\n    <tr>\n      <th>0</th>\n      <td>-1000000</td>\n      <td>-1000000.0</td>\n      <td>1.000000</td>\n      <td>2.000000</td>\n      <td>1.000000</td>\n      <td>-1000000.000000</td>\n      <td>2.000000</td>\n      <td>-1000000.0</td>\n      <td>-1000000.0</td>\n      <td>-1000000</td>\n      <td>...</td>\n      <td>-1000000.00000</td>\n      <td>3.0</td>\n      <td>-1000000.000000</td>\n      <td>-1000000.000000</td>\n      <td>760.000000</td>\n      <td>NBA</td>\n      <td>8</td>\n      <td>2022-06-22</td>\n      <td>2022-06-15</td>\n      <td>Tenax</td>\n    </tr>\n    <tr>\n      <th>1</th>\n      <td>-1000000</td>\n      <td>-1000000.0</td>\n      <td>-1000000.000000</td>\n      <td>1.000000</td>\n      <td>1.000000</td>\n      <td>-1000000.000000</td>\n      <td>-1000000.000000</td>\n      <td>-1000000.0</td>\n      <td>-1000000.0</td>\n      <td>-1000000</td>\n      <td>...</td>\n      <td>-1000000.00000</td>\n      <td>4.0</td>\n      <td>-1000000.000000</td>\n      <td>-1000000.000000</td>\n      <td>503.000000</td>\n      <td>NHA</td>\n      <td>8</td>\n      <td>2022-06-22</td>\n      <td>2022-06-15</td>\n      <td>Tenax</td>\n    </tr>\n    <tr>\n      <th>2</th>\n      <td>-1000000</td>\n      <td>-1000000.0</td>\n      <td>-1000000.000000</td>\n      <td>1.000000</td>\n      <td>1.000000</td>\n      <td>-1000000.000000</td>\n      <td>-1000000.000000</td>\n      <td>-1000000.0</td>\n      <td>-1000000.0</td>\n      <td>-1000000</td>\n      <td>...</td>\n      <td>-1000000.00000</td>\n      <td>3.0</td>\n      <td>-1000000.000000</td>\n      <td>-1000000.000000</td>\n      <td>380.000000</td>\n      <td>EXT</td>\n      <td>8</td>\n      <td>2022-06-22</td>\n      <td>2022-06-15</td>\n      <td>Tenax</td>\n    </tr>\n    <tr>\n      <th>3</th>\n      <td>-1000000</td>\n      <td>7.0</td>\n      <td>1.000000</td>\n      <td>6.000000</td>\n      <td>2.000000</td>\n      <td>-1000000.000000</td>\n      <td>-1000000.000000</td>\n      <td>2.0</td>\n      <td>2.0</td>\n      <td>-1000000</td>\n      <td>...</td>\n      <td>2.00000</td>\n      <td>2.0</td>\n      <td>4.000000</td>\n      <td>3.000000</td>\n      <td>879.000000</td>\n      <td>NBA</td>\n      <td>18</td>\n      <td>2022-06-22</td>\n      <td>2022-06-15</td>\n      <td>Tenax</td>\n    </tr>\n    <tr>\n      <th>4</th>\n      <td>-1000000</td>\n      <td>-1000000.0</td>\n      <td>1.000000</td>\n      <td>4.000000</td>\n      <td>2.000000</td>\n      <td>-1000000.000000</td>\n      <td>2.000000</td>\n      <td>2.0</td>\n      <td>-1000000.0</td>\n      <td>-1000000</td>\n      <td>...</td>\n      <td>2.00000</td>\n      <td>2.0</td>\n      <td>8.000000</td>\n      <td>2.000000</td>\n      <td>1122.000000</td>\n      <td>NHA</td>\n      <td>18</td>\n      <td>2022-06-22</td>\n      <td>2022-06-15</td>\n      <td>Tenax</td>\n    </tr>\n    <tr>\n      <th>...</th>\n      <td>...</td>\n      <td>...</td>\n      <td>...</td>\n      <td>...</td>\n      <td>...</td>\n      <td>...</td>\n      <td>...</td>\n      <td>...</td>\n      <td>...</td>\n      <td>...</td>\n      <td>...</td>\n      <td>...</td>\n      <td>...</td>\n      <td>...</td>\n      <td>...</td>\n      <td>...</td>\n      <td>...</td>\n      <td>...</td>\n      <td>...</td>\n      <td>...</td>\n      <td>...</td>\n    </tr>\n    <tr>\n      <th>138</th>\n      <td>-1000000</td>\n      <td>-1000000.0</td>\n      <td>-1000000.000000</td>\n      <td>1.000000</td>\n      <td>-1000000.000000</td>\n      <td>-1000000.000000</td>\n      <td>2.176896</td>\n      <td>-1000000.0</td>\n      <td>-1000000.0</td>\n      <td>-1000000</td>\n      <td>...</td>\n      <td>-1000000.00000</td>\n      <td>-1000000.0</td>\n      <td>-1000000.000000</td>\n      <td>10.371277</td>\n      <td>324.835483</td>\n      <td>NHA</td>\n      <td>6</td>\n      <td>2023-03-29</td>\n      <td>2023-03-22</td>\n      <td>Tenax</td>\n    </tr>\n    <tr>\n      <th>139</th>\n      <td>-1000000</td>\n      <td>-1000000.0</td>\n      <td>-1000000.000000</td>\n      <td>-1000000.000000</td>\n      <td>-1000000.000000</td>\n      <td>-1000000.000000</td>\n      <td>-1000000.000000</td>\n      <td>-1000000.0</td>\n      <td>-1000000.0</td>\n      <td>-1000000</td>\n      <td>...</td>\n      <td>-1000000.00000</td>\n      <td>-1000000.0</td>\n      <td>-1000000.000000</td>\n      <td>-1000000.000000</td>\n      <td>186.258882</td>\n      <td>EXT</td>\n      <td>6</td>\n      <td>2023-03-29</td>\n      <td>2023-03-22</td>\n      <td>Tenax</td>\n    </tr>\n    <tr>\n      <th>140</th>\n      <td>-1000000</td>\n      <td>-1000000.0</td>\n      <td>1.962633</td>\n      <td>5.093146</td>\n      <td>2.354599</td>\n      <td>3.044249</td>\n      <td>2.689040</td>\n      <td>-1000000.0</td>\n      <td>-1000000.0</td>\n      <td>-1000000</td>\n      <td>...</td>\n      <td>5.76807</td>\n      <td>-1000000.0</td>\n      <td>5.350555</td>\n      <td>3.042765</td>\n      <td>418.557282</td>\n      <td>NBA</td>\n      <td>14</td>\n      <td>2023-03-29</td>\n      <td>2023-03-22</td>\n      <td>Tenax</td>\n    </tr>\n    <tr>\n      <th>141</th>\n      <td>-1000000</td>\n      <td>-1000000.0</td>\n      <td>3.124854</td>\n      <td>6.623864</td>\n      <td>3.029218</td>\n      <td>-1000000.000000</td>\n      <td>4.941842</td>\n      <td>-1000000.0</td>\n      <td>-1000000.0</td>\n      <td>-1000000</td>\n      <td>...</td>\n      <td>-1000000.00000</td>\n      <td>-1000000.0</td>\n      <td>3.225134</td>\n      <td>1.784536</td>\n      <td>573.006778</td>\n      <td>NHA</td>\n      <td>14</td>\n      <td>2023-03-29</td>\n      <td>2023-03-22</td>\n      <td>Tenax</td>\n    </tr>\n    <tr>\n      <th>142</th>\n      <td>-1000000</td>\n      <td>-1000000.0</td>\n      <td>-1000000.000000</td>\n      <td>1.000000</td>\n      <td>-1000000.000000</td>\n      <td>-1000000.000000</td>\n      <td>-1000000.000000</td>\n      <td>-1000000.0</td>\n      <td>-1000000.0</td>\n      <td>-1000000</td>\n      <td>...</td>\n      <td>-1000000.00000</td>\n      <td>-1000000.0</td>\n      <td>-1000000.000000</td>\n      <td>-1000000.000000</td>\n      <td>223.127626</td>\n      <td>EXT</td>\n      <td>14</td>\n      <td>2023-03-29</td>\n      <td>2023-03-22</td>\n      <td>Tenax</td>\n    </tr>\n  </tbody>\n</table>\n<p>143 rows × 26 columns</p>\n</div>"
     },
     "execution_count": 9,
     "metadata": {},
     "output_type": "execute_result"
    }
   ],
   "source": [
    "#drop irrelevant columns \n",
    "tenax.drop(columns=['Composes_doses','Campagne_str',],inplace=True)\n",
    "\n",
    "#for TVOCs, use \"TVOC\" + unit\n",
    "tenax.rename(columns={'COVtot':'TVOC, µg/m3'},inplace=True)\n",
    "#for individual VOCs, use \"Specific VOC\" + unit for name, for example \"Benzene, µg/m3\"\n",
    "voc_columns = tenax.columns.drop(['Date','Point_mesure','Localite_id','TVOC, µg/m3']) #find columns containing individual VOCs to be renamed\n",
    "tenax.rename(columns = dict(zip(voc_columns, voc_columns + ', µg/m3')), inplace=True) #rename the columns to add the unit\n",
    "\n",
    "#standardize column names for identifiers\n",
    "building_col = 'Localite_id' #column name of building identifier in your primary data, values must match metadata\n",
    "space_col = 'Point_mesure' #column name of space identifier in your primary data, values must match metadata\n",
    "tenax.rename(columns={building_col:'Building identifier',space_col:'Space identifier'},inplace=True)\n",
    "\n",
    "#for start and end of sampling, use \"Start time\" and \"End time\", respectively\n",
    "tenax['End time'] = tenax['Date'].apply(lambda x: x[6:]) # the 7th digit to the end of the \"Date\" column is the end data\n",
    "tenax['Start time'] = tenax['Date'].apply(lambda x: x[0:5]+x[-5:]) # the first 5 and last 5 digits of the \"Date\" column are the start data\n",
    "tenax['End time'] = pd.to_datetime(tenax['End time'],format='mixed') #convert to standard datetime format\n",
    "tenax['Start time'] = pd.to_datetime(tenax['Start time'],format='mixed') #convert to standard datetime format\n",
    "tenax.drop(columns=['Date'],inplace=True)\n",
    "\n",
    "#check all necessary information has been provided\n",
    "#most important ones include: Building identifier, Space identifier, and Instrument identifier\n",
    "#in this example, Instrument identifier is missing\n",
    "tenax['Instrument identifier'] = 'Tenax'\n",
    "\n",
    "tenax"
   ],
   "metadata": {
    "collapsed": false,
    "ExecuteTime": {
     "end_time": "2024-10-09T15:59:32.338575Z",
     "start_time": "2024-10-09T15:59:32.299896Z"
    }
   },
   "id": "7e21a21d4d859fc1"
  },
  {
   "cell_type": "code",
   "execution_count": 10,
   "outputs": [],
   "source": [
    "tenax.to_csv('./Data sample/Data sample_Standardized/Tenax_conc_standardized.csv')"
   ],
   "metadata": {
    "collapsed": false,
    "ExecuteTime": {
     "end_time": "2024-10-09T15:59:32.338691Z",
     "start_time": "2024-10-09T15:59:32.313453Z"
    }
   },
   "id": "d2fb11650c58d3c0"
  },
  {
   "cell_type": "markdown",
   "source": [
    "## Type 2.2 -  Integrated data file that requires transposition   "
   ],
   "metadata": {
    "collapsed": false
   },
   "id": "29e06a24ee982123"
  },
  {
   "cell_type": "code",
   "execution_count": 11,
   "outputs": [
    {
     "data": {
      "text/plain": "    14050304_COA_CAS  14050304_COA_Name_list 14050304_COA_Name_file  \\\n1           100-41-4           Ethyl Benzene                    NaN   \n2           100-42-5                 Styrene                    NaN   \n3           100-44-7         Benzyl Chloride                    NaN   \n4           100-51-6          Benzyl Alcohol                    NaN   \n5           103-65-1          Propyl Benzene                    NaN   \n..               ...                     ...                    ...   \n202         107-01-7                2-butene                    NaN   \n203         560-21-4  2,3,3-Trimethylpentane                    NaN   \n204         584-94-1      2,3-Dimethylhexane                    NaN   \n205  100-100-100-100       Total(As Toluene)      Total(As Toluene)   \n206  100-100-100-100       Total(As Toluene)      Total(As Toluene)   \n\n     14050304_COA_R.time  14050304_COA_ppb  14050304_COA_ug/m3  \\\n1                    NaN               NaN                 NaN   \n2                    NaN               NaN                 NaN   \n3                    NaN               NaN                 NaN   \n4                    NaN               NaN                 NaN   \n5                    NaN               NaN                 NaN   \n..                   ...               ...                 ...   \n202                  NaN               NaN                 NaN   \n203                  NaN               NaN                 NaN   \n204                  NaN               NaN                 NaN   \n205                  NaN           54.9694          206.135251   \n206                  NaN           54.9694          206.135251   \n\n     14050304_COA_Probability  \n1                         NaN  \n2                         NaN  \n3                         NaN  \n4                         NaN  \n5                         NaN  \n..                        ...  \n202                       NaN  \n203                       NaN  \n204                       NaN  \n205                       NaN  \n206                       NaN  \n\n[206 rows x 7 columns]",
      "text/html": "<div>\n<style scoped>\n    .dataframe tbody tr th:only-of-type {\n        vertical-align: middle;\n    }\n\n    .dataframe tbody tr th {\n        vertical-align: top;\n    }\n\n    .dataframe thead th {\n        text-align: right;\n    }\n</style>\n<table border=\"1\" class=\"dataframe\">\n  <thead>\n    <tr style=\"text-align: right;\">\n      <th></th>\n      <th>14050304_COA_CAS</th>\n      <th>14050304_COA_Name_list</th>\n      <th>14050304_COA_Name_file</th>\n      <th>14050304_COA_R.time</th>\n      <th>14050304_COA_ppb</th>\n      <th>14050304_COA_ug/m3</th>\n      <th>14050304_COA_Probability</th>\n    </tr>\n  </thead>\n  <tbody>\n    <tr>\n      <th>1</th>\n      <td>100-41-4</td>\n      <td>Ethyl Benzene</td>\n      <td>NaN</td>\n      <td>NaN</td>\n      <td>NaN</td>\n      <td>NaN</td>\n      <td>NaN</td>\n    </tr>\n    <tr>\n      <th>2</th>\n      <td>100-42-5</td>\n      <td>Styrene</td>\n      <td>NaN</td>\n      <td>NaN</td>\n      <td>NaN</td>\n      <td>NaN</td>\n      <td>NaN</td>\n    </tr>\n    <tr>\n      <th>3</th>\n      <td>100-44-7</td>\n      <td>Benzyl Chloride</td>\n      <td>NaN</td>\n      <td>NaN</td>\n      <td>NaN</td>\n      <td>NaN</td>\n      <td>NaN</td>\n    </tr>\n    <tr>\n      <th>4</th>\n      <td>100-51-6</td>\n      <td>Benzyl Alcohol</td>\n      <td>NaN</td>\n      <td>NaN</td>\n      <td>NaN</td>\n      <td>NaN</td>\n      <td>NaN</td>\n    </tr>\n    <tr>\n      <th>5</th>\n      <td>103-65-1</td>\n      <td>Propyl Benzene</td>\n      <td>NaN</td>\n      <td>NaN</td>\n      <td>NaN</td>\n      <td>NaN</td>\n      <td>NaN</td>\n    </tr>\n    <tr>\n      <th>...</th>\n      <td>...</td>\n      <td>...</td>\n      <td>...</td>\n      <td>...</td>\n      <td>...</td>\n      <td>...</td>\n      <td>...</td>\n    </tr>\n    <tr>\n      <th>202</th>\n      <td>107-01-7</td>\n      <td>2-butene</td>\n      <td>NaN</td>\n      <td>NaN</td>\n      <td>NaN</td>\n      <td>NaN</td>\n      <td>NaN</td>\n    </tr>\n    <tr>\n      <th>203</th>\n      <td>560-21-4</td>\n      <td>2,3,3-Trimethylpentane</td>\n      <td>NaN</td>\n      <td>NaN</td>\n      <td>NaN</td>\n      <td>NaN</td>\n      <td>NaN</td>\n    </tr>\n    <tr>\n      <th>204</th>\n      <td>584-94-1</td>\n      <td>2,3-Dimethylhexane</td>\n      <td>NaN</td>\n      <td>NaN</td>\n      <td>NaN</td>\n      <td>NaN</td>\n      <td>NaN</td>\n    </tr>\n    <tr>\n      <th>205</th>\n      <td>100-100-100-100</td>\n      <td>Total(As Toluene)</td>\n      <td>Total(As Toluene)</td>\n      <td>NaN</td>\n      <td>54.9694</td>\n      <td>206.135251</td>\n      <td>NaN</td>\n    </tr>\n    <tr>\n      <th>206</th>\n      <td>100-100-100-100</td>\n      <td>Total(As Toluene)</td>\n      <td>Total(As Toluene)</td>\n      <td>NaN</td>\n      <td>54.9694</td>\n      <td>206.135251</td>\n      <td>NaN</td>\n    </tr>\n  </tbody>\n</table>\n<p>206 rows × 7 columns</p>\n</div>"
     },
     "execution_count": 11,
     "metadata": {},
     "output_type": "execute_result"
    }
   ],
   "source": [
    "filename = 'data_COA_14050304.csv'\n",
    "coa = pd.read_csv('./Data sample/'+filename, index_col=0,converters={'Ref':str})\n",
    "coa"
   ],
   "metadata": {
    "collapsed": false,
    "ExecuteTime": {
     "end_time": "2024-10-09T15:59:32.338874Z",
     "start_time": "2024-10-09T15:59:32.318686Z"
    }
   },
   "id": "a8baad53afa8a945"
  },
  {
   "cell_type": "code",
   "execution_count": 12,
   "outputs": [
    {
     "data": {
      "text/plain": "COA_Name_list Ethyl Benzene, µg/m3 Styrene, µg/m3 Benzyl Chloride, µg/m3  \\\nCOA_CAS                   100-41-4       100-42-5               100-44-7   \n0                              NaN            NaN                    NaN   \n1                              NaN            NaN                    NaN   \n2                              NaN            NaN                    NaN   \n3                              NaN            NaN                    NaN   \n4                              NaN            NaN                    NaN   \n..                             ...            ...                    ...   \n201                            NaN            NaN                    NaN   \n202                            NaN            NaN                    NaN   \n203                            NaN            NaN                    NaN   \n204                            NaN            NaN                    NaN   \n205                            NaN            NaN                    NaN   \n\nCOA_Name_list Benzyl Alcohol, µg/m3 Propyl Benzene, µg/m3 Anethole, µg/m3  \\\nCOA_CAS                    100-51-6              103-65-1        104-46-1   \n0                               NaN                   NaN             NaN   \n1                               NaN                   NaN             NaN   \n2                               NaN                   NaN             NaN   \n3                               NaN                   NaN             NaN   \n4                               NaN                   NaN             NaN   \n..                              ...                   ...             ...   \n201                             NaN                   NaN             NaN   \n202                             NaN                   NaN             NaN   \n203                             NaN                   NaN             NaN   \n204                             NaN                   NaN             NaN   \n205                             NaN                   NaN             NaN   \n\nCOA_Name_list 2-Ethyl-1-Hexanol, µg/m3 Ethyl Propionate, µg/m3  \\\nCOA_CAS                       104-76-7                105-37-3   \n0                                  NaN                     NaN   \n1                                  NaN                     NaN   \n2                                  NaN                     NaN   \n3                                  NaN                     NaN   \n4                                  NaN                     NaN   \n..                                 ...                     ...   \n201                                NaN                     NaN   \n202                                NaN                     NaN   \n203                                NaN                     NaN   \n204                                NaN                     NaN   \n205                                NaN                     NaN   \n\nCOA_Name_list Ethyl butyrate, µg/m3 Beta-Citronellol, µg/m3  ...  \\\nCOA_CAS                    105-54-4                106-22-9  ...   \n0                               NaN                     NaN  ...   \n1                               NaN                     NaN  ...   \n2                               NaN                     NaN  ...   \n3                               NaN                     NaN  ...   \n4                               NaN                     NaN  ...   \n..                              ...                     ...  ...   \n201                             NaN                     NaN  ...   \n202                             NaN                     NaN  ...   \n203                             NaN                     NaN  ...   \n204                             NaN                     NaN  ...   \n205                             NaN                     NaN  ...   \n\nCOA_Name_list Ethylvinylether, µg/m3 γ-Terpinene, µg/m3  \\\nCOA_CAS                     109-92-2            99-85-4   \n0                                NaN                NaN   \n1                                NaN                NaN   \n2                                NaN                NaN   \n3                                NaN                NaN   \n4                                NaN                NaN   \n..                               ...                ...   \n201                              NaN                NaN   \n202                              NaN                NaN   \n203                              NaN                NaN   \n204                              NaN                NaN   \n205                              NaN                NaN   \n\nCOA_Name_list 2,3,4-Trimethylpentane, µg/m3 2-butene, µg/m3  \\\nCOA_CAS                            565-75-3        107-01-7   \n0                                       NaN             NaN   \n1                                       NaN             NaN   \n2                                       NaN             NaN   \n3                                       NaN             NaN   \n4                                       NaN             NaN   \n..                                      ...             ...   \n201                                     NaN             NaN   \n202                                     NaN             NaN   \n203                                     NaN             NaN   \n204                                     NaN             NaN   \n205                                     NaN             NaN   \n\nCOA_Name_list 2,3,3-Trimethylpentane, µg/m3 2,3-Dimethylhexane, µg/m3  \\\nCOA_CAS                            560-21-4                  584-94-1   \n0                                       NaN                       NaN   \n1                                       NaN                       NaN   \n2                                       NaN                       NaN   \n3                                       NaN                       NaN   \n4                                       NaN                       NaN   \n..                                      ...                       ...   \n201                                     NaN                       NaN   \n202                                     NaN                       NaN   \n203                                     NaN                       NaN   \n204                                     NaN                       NaN   \n205                                     NaN                       NaN   \n\nCOA_Name_list     TVOC, µg/m3 Building identifier Space identifier  \\\nCOA_CAS       100-100-100-100                                        \n0                         NaN                   1              NBA   \n1                         NaN                   1              NBA   \n2                         NaN                   1              NBA   \n3                         NaN                   1              NBA   \n4                         NaN                   1              NBA   \n..                        ...                 ...              ...   \n201                       NaN                   1              NBA   \n202                       NaN                   1              NBA   \n203                       NaN                   1              NBA   \n204                206.135251                   1              NBA   \n205                206.135251                   1              NBA   \n\nCOA_Name_list Instrument identifier  \nCOA_CAS                              \n0                         Kits-COVA  \n1                         Kits-COVA  \n2                         Kits-COVA  \n3                         Kits-COVA  \n4                         Kits-COVA  \n..                              ...  \n201                       Kits-COVA  \n202                       Kits-COVA  \n203                       Kits-COVA  \n204                       Kits-COVA  \n205                       Kits-COVA  \n\n[206 rows x 208 columns]",
      "text/html": "<div>\n<style scoped>\n    .dataframe tbody tr th:only-of-type {\n        vertical-align: middle;\n    }\n\n    .dataframe tbody tr th {\n        vertical-align: top;\n    }\n\n    .dataframe thead tr th {\n        text-align: left;\n    }\n</style>\n<table border=\"1\" class=\"dataframe\">\n  <thead>\n    <tr>\n      <th>COA_Name_list</th>\n      <th>Ethyl Benzene, µg/m3</th>\n      <th>Styrene, µg/m3</th>\n      <th>Benzyl Chloride, µg/m3</th>\n      <th>Benzyl Alcohol, µg/m3</th>\n      <th>Propyl Benzene, µg/m3</th>\n      <th>Anethole, µg/m3</th>\n      <th>2-Ethyl-1-Hexanol, µg/m3</th>\n      <th>Ethyl Propionate, µg/m3</th>\n      <th>Ethyl butyrate, µg/m3</th>\n      <th>Beta-Citronellol, µg/m3</th>\n      <th>...</th>\n      <th>Ethylvinylether, µg/m3</th>\n      <th>γ-Terpinene, µg/m3</th>\n      <th>2,3,4-Trimethylpentane, µg/m3</th>\n      <th>2-butene, µg/m3</th>\n      <th>2,3,3-Trimethylpentane, µg/m3</th>\n      <th>2,3-Dimethylhexane, µg/m3</th>\n      <th>TVOC, µg/m3</th>\n      <th>Building identifier</th>\n      <th>Space identifier</th>\n      <th>Instrument identifier</th>\n    </tr>\n    <tr>\n      <th>COA_CAS</th>\n      <th>100-41-4</th>\n      <th>100-42-5</th>\n      <th>100-44-7</th>\n      <th>100-51-6</th>\n      <th>103-65-1</th>\n      <th>104-46-1</th>\n      <th>104-76-7</th>\n      <th>105-37-3</th>\n      <th>105-54-4</th>\n      <th>106-22-9</th>\n      <th>...</th>\n      <th>109-92-2</th>\n      <th>99-85-4</th>\n      <th>565-75-3</th>\n      <th>107-01-7</th>\n      <th>560-21-4</th>\n      <th>584-94-1</th>\n      <th>100-100-100-100</th>\n      <th></th>\n      <th></th>\n      <th></th>\n    </tr>\n  </thead>\n  <tbody>\n    <tr>\n      <th>0</th>\n      <td>NaN</td>\n      <td>NaN</td>\n      <td>NaN</td>\n      <td>NaN</td>\n      <td>NaN</td>\n      <td>NaN</td>\n      <td>NaN</td>\n      <td>NaN</td>\n      <td>NaN</td>\n      <td>NaN</td>\n      <td>...</td>\n      <td>NaN</td>\n      <td>NaN</td>\n      <td>NaN</td>\n      <td>NaN</td>\n      <td>NaN</td>\n      <td>NaN</td>\n      <td>NaN</td>\n      <td>1</td>\n      <td>NBA</td>\n      <td>Kits-COVA</td>\n    </tr>\n    <tr>\n      <th>1</th>\n      <td>NaN</td>\n      <td>NaN</td>\n      <td>NaN</td>\n      <td>NaN</td>\n      <td>NaN</td>\n      <td>NaN</td>\n      <td>NaN</td>\n      <td>NaN</td>\n      <td>NaN</td>\n      <td>NaN</td>\n      <td>...</td>\n      <td>NaN</td>\n      <td>NaN</td>\n      <td>NaN</td>\n      <td>NaN</td>\n      <td>NaN</td>\n      <td>NaN</td>\n      <td>NaN</td>\n      <td>1</td>\n      <td>NBA</td>\n      <td>Kits-COVA</td>\n    </tr>\n    <tr>\n      <th>2</th>\n      <td>NaN</td>\n      <td>NaN</td>\n      <td>NaN</td>\n      <td>NaN</td>\n      <td>NaN</td>\n      <td>NaN</td>\n      <td>NaN</td>\n      <td>NaN</td>\n      <td>NaN</td>\n      <td>NaN</td>\n      <td>...</td>\n      <td>NaN</td>\n      <td>NaN</td>\n      <td>NaN</td>\n      <td>NaN</td>\n      <td>NaN</td>\n      <td>NaN</td>\n      <td>NaN</td>\n      <td>1</td>\n      <td>NBA</td>\n      <td>Kits-COVA</td>\n    </tr>\n    <tr>\n      <th>3</th>\n      <td>NaN</td>\n      <td>NaN</td>\n      <td>NaN</td>\n      <td>NaN</td>\n      <td>NaN</td>\n      <td>NaN</td>\n      <td>NaN</td>\n      <td>NaN</td>\n      <td>NaN</td>\n      <td>NaN</td>\n      <td>...</td>\n      <td>NaN</td>\n      <td>NaN</td>\n      <td>NaN</td>\n      <td>NaN</td>\n      <td>NaN</td>\n      <td>NaN</td>\n      <td>NaN</td>\n      <td>1</td>\n      <td>NBA</td>\n      <td>Kits-COVA</td>\n    </tr>\n    <tr>\n      <th>4</th>\n      <td>NaN</td>\n      <td>NaN</td>\n      <td>NaN</td>\n      <td>NaN</td>\n      <td>NaN</td>\n      <td>NaN</td>\n      <td>NaN</td>\n      <td>NaN</td>\n      <td>NaN</td>\n      <td>NaN</td>\n      <td>...</td>\n      <td>NaN</td>\n      <td>NaN</td>\n      <td>NaN</td>\n      <td>NaN</td>\n      <td>NaN</td>\n      <td>NaN</td>\n      <td>NaN</td>\n      <td>1</td>\n      <td>NBA</td>\n      <td>Kits-COVA</td>\n    </tr>\n    <tr>\n      <th>...</th>\n      <td>...</td>\n      <td>...</td>\n      <td>...</td>\n      <td>...</td>\n      <td>...</td>\n      <td>...</td>\n      <td>...</td>\n      <td>...</td>\n      <td>...</td>\n      <td>...</td>\n      <td>...</td>\n      <td>...</td>\n      <td>...</td>\n      <td>...</td>\n      <td>...</td>\n      <td>...</td>\n      <td>...</td>\n      <td>...</td>\n      <td>...</td>\n      <td>...</td>\n      <td>...</td>\n    </tr>\n    <tr>\n      <th>201</th>\n      <td>NaN</td>\n      <td>NaN</td>\n      <td>NaN</td>\n      <td>NaN</td>\n      <td>NaN</td>\n      <td>NaN</td>\n      <td>NaN</td>\n      <td>NaN</td>\n      <td>NaN</td>\n      <td>NaN</td>\n      <td>...</td>\n      <td>NaN</td>\n      <td>NaN</td>\n      <td>NaN</td>\n      <td>NaN</td>\n      <td>NaN</td>\n      <td>NaN</td>\n      <td>NaN</td>\n      <td>1</td>\n      <td>NBA</td>\n      <td>Kits-COVA</td>\n    </tr>\n    <tr>\n      <th>202</th>\n      <td>NaN</td>\n      <td>NaN</td>\n      <td>NaN</td>\n      <td>NaN</td>\n      <td>NaN</td>\n      <td>NaN</td>\n      <td>NaN</td>\n      <td>NaN</td>\n      <td>NaN</td>\n      <td>NaN</td>\n      <td>...</td>\n      <td>NaN</td>\n      <td>NaN</td>\n      <td>NaN</td>\n      <td>NaN</td>\n      <td>NaN</td>\n      <td>NaN</td>\n      <td>NaN</td>\n      <td>1</td>\n      <td>NBA</td>\n      <td>Kits-COVA</td>\n    </tr>\n    <tr>\n      <th>203</th>\n      <td>NaN</td>\n      <td>NaN</td>\n      <td>NaN</td>\n      <td>NaN</td>\n      <td>NaN</td>\n      <td>NaN</td>\n      <td>NaN</td>\n      <td>NaN</td>\n      <td>NaN</td>\n      <td>NaN</td>\n      <td>...</td>\n      <td>NaN</td>\n      <td>NaN</td>\n      <td>NaN</td>\n      <td>NaN</td>\n      <td>NaN</td>\n      <td>NaN</td>\n      <td>NaN</td>\n      <td>1</td>\n      <td>NBA</td>\n      <td>Kits-COVA</td>\n    </tr>\n    <tr>\n      <th>204</th>\n      <td>NaN</td>\n      <td>NaN</td>\n      <td>NaN</td>\n      <td>NaN</td>\n      <td>NaN</td>\n      <td>NaN</td>\n      <td>NaN</td>\n      <td>NaN</td>\n      <td>NaN</td>\n      <td>NaN</td>\n      <td>...</td>\n      <td>NaN</td>\n      <td>NaN</td>\n      <td>NaN</td>\n      <td>NaN</td>\n      <td>NaN</td>\n      <td>NaN</td>\n      <td>206.135251</td>\n      <td>1</td>\n      <td>NBA</td>\n      <td>Kits-COVA</td>\n    </tr>\n    <tr>\n      <th>205</th>\n      <td>NaN</td>\n      <td>NaN</td>\n      <td>NaN</td>\n      <td>NaN</td>\n      <td>NaN</td>\n      <td>NaN</td>\n      <td>NaN</td>\n      <td>NaN</td>\n      <td>NaN</td>\n      <td>NaN</td>\n      <td>...</td>\n      <td>NaN</td>\n      <td>NaN</td>\n      <td>NaN</td>\n      <td>NaN</td>\n      <td>NaN</td>\n      <td>NaN</td>\n      <td>206.135251</td>\n      <td>1</td>\n      <td>NBA</td>\n      <td>Kits-COVA</td>\n    </tr>\n  </tbody>\n</table>\n<p>206 rows × 208 columns</p>\n</div>"
     },
     "execution_count": 12,
     "metadata": {},
     "output_type": "execute_result"
    }
   ],
   "source": [
    "#remove prefix from column names\n",
    "coa.columns = coa.columns.str.removeprefix(\"14050304_\")\n",
    "\n",
    "#drop irrelevant columns \n",
    "coa.drop(columns=['COA_Name_file','COA_R.time','COA_Probability'],inplace=True)\n",
    "\n",
    "#covert to the long format, i.e., each pollutant should occupy a column\n",
    "coa = coa.pivot(columns=['COA_Name_list','COA_CAS'],values='COA_ug/m3').reset_index(drop=True)\n",
    "\n",
    "# #for individual VOCs, use \"Specific VOC\" + unit for name, for example \"Benzene, µg/m3\"\n",
    "voc_columns = coa.columns.get_level_values(0).drop('Total(As Toluene)') #Because it contains CAS number, the dataframe because multi-index, level 0 contains VOC names\n",
    "coa.rename(columns = dict(zip(voc_columns, voc_columns + ', µg/m3')), level=0, inplace=True) #rename the columns to add the unit\n",
    "#for TVOCs, use \"TVOC\" + unit\n",
    "coa.rename(columns={'Total(As Toluene)':'TVOC, µg/m3'},inplace=True)\n",
    "\n",
    "#add building, space, and instrument identifiers\n",
    "coa['Building identifier'] = 1\n",
    "coa['Space identifier'] = 'NBA'\n",
    "coa['Instrument identifier'] = 'Kits-COVA'\n",
    "\n",
    "coa"
   ],
   "metadata": {
    "collapsed": false,
    "ExecuteTime": {
     "end_time": "2024-10-09T15:59:32.366395Z",
     "start_time": "2024-10-09T15:59:32.327886Z"
    }
   },
   "id": "7fa0df5cccbc48d"
  },
  {
   "cell_type": "code",
   "execution_count": 13,
   "outputs": [],
   "source": [
    "coa.to_csv('./Data sample/Data sample_Standardized/COVA_standardized.csv')"
   ],
   "metadata": {
    "collapsed": false,
    "ExecuteTime": {
     "end_time": "2024-10-09T15:59:32.405550Z",
     "start_time": "2024-10-09T15:59:32.356226Z"
    }
   },
   "id": "740168c7efb6dce8"
  }
 ],
 "metadata": {
  "kernelspec": {
   "display_name": "Python 3 (ipykernel)",
   "language": "python",
   "name": "python3"
  },
  "language_info": {
   "codemirror_mode": {
    "name": "ipython",
    "version": 3
   },
   "file_extension": ".py",
   "mimetype": "text/x-python",
   "name": "python",
   "nbconvert_exporter": "python",
   "pygments_lexer": "ipython3",
   "version": "3.9.13"
  }
 },
 "nbformat": 4,
 "nbformat_minor": 5
}
